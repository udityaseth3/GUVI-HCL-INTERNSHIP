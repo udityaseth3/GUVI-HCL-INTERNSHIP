{
 "cells": [
  {
   "cell_type": "code",
   "execution_count": 9,
   "id": "c5d2034c-677b-40f5-bd09-42c8a43d0aa7",
   "metadata": {},
   "outputs": [],
   "source": [
    "import numpy as np\n",
    "import pandas as pd\n",
    "import matplotlib as pyplt\n",
    "import seaborn as sns"
   ]
  },
  {
   "cell_type": "code",
   "execution_count": 10,
   "id": "b3a2aca9-e54f-412a-919a-660f66f267e6",
   "metadata": {},
   "outputs": [
    {
     "data": {
      "text/html": [
       "<div>\n",
       "<style scoped>\n",
       "    .dataframe tbody tr th:only-of-type {\n",
       "        vertical-align: middle;\n",
       "    }\n",
       "\n",
       "    .dataframe tbody tr th {\n",
       "        vertical-align: top;\n",
       "    }\n",
       "\n",
       "    .dataframe thead th {\n",
       "        text-align: right;\n",
       "    }\n",
       "</style>\n",
       "<table border=\"1\" class=\"dataframe\">\n",
       "  <thead>\n",
       "    <tr style=\"text-align: right;\">\n",
       "      <th></th>\n",
       "      <th>Date</th>\n",
       "      <th>Meal</th>\n",
       "      <th>Food</th>\n",
       "      <th>Calories</th>\n",
       "    </tr>\n",
       "  </thead>\n",
       "  <tbody>\n",
       "    <tr>\n",
       "      <th>0</th>\n",
       "      <td>2025-07-01</td>\n",
       "      <td>Breakfast</td>\n",
       "      <td>Smoothie</td>\n",
       "      <td>272</td>\n",
       "    </tr>\n",
       "    <tr>\n",
       "      <th>1</th>\n",
       "      <td>2025-07-01</td>\n",
       "      <td>Lunch</td>\n",
       "      <td>Salad</td>\n",
       "      <td>210</td>\n",
       "    </tr>\n",
       "    <tr>\n",
       "      <th>2</th>\n",
       "      <td>2025-07-01</td>\n",
       "      <td>Lunch</td>\n",
       "      <td>Paneer</td>\n",
       "      <td>526</td>\n",
       "    </tr>\n",
       "    <tr>\n",
       "      <th>3</th>\n",
       "      <td>2025-07-01</td>\n",
       "      <td>Snack</td>\n",
       "      <td>Nuts</td>\n",
       "      <td>543</td>\n",
       "    </tr>\n",
       "    <tr>\n",
       "      <th>4</th>\n",
       "      <td>2025-07-02</td>\n",
       "      <td>Lunch</td>\n",
       "      <td>Chicken Curry</td>\n",
       "      <td>330</td>\n",
       "    </tr>\n",
       "    <tr>\n",
       "      <th>...</th>\n",
       "      <td>...</td>\n",
       "      <td>...</td>\n",
       "      <td>...</td>\n",
       "      <td>...</td>\n",
       "    </tr>\n",
       "    <tr>\n",
       "      <th>95</th>\n",
       "      <td>2025-07-24</td>\n",
       "      <td>Breakfast</td>\n",
       "      <td>Toast</td>\n",
       "      <td>410</td>\n",
       "    </tr>\n",
       "    <tr>\n",
       "      <th>96</th>\n",
       "      <td>2025-07-25</td>\n",
       "      <td>Lunch</td>\n",
       "      <td>Pasta</td>\n",
       "      <td>236</td>\n",
       "    </tr>\n",
       "    <tr>\n",
       "      <th>97</th>\n",
       "      <td>2025-07-25</td>\n",
       "      <td>Snack</td>\n",
       "      <td>Chips</td>\n",
       "      <td>211</td>\n",
       "    </tr>\n",
       "    <tr>\n",
       "      <th>98</th>\n",
       "      <td>2025-07-25</td>\n",
       "      <td>Snack</td>\n",
       "      <td>Fruit</td>\n",
       "      <td>392</td>\n",
       "    </tr>\n",
       "    <tr>\n",
       "      <th>99</th>\n",
       "      <td>2025-07-25</td>\n",
       "      <td>Breakfast</td>\n",
       "      <td>Pancakes</td>\n",
       "      <td>353</td>\n",
       "    </tr>\n",
       "  </tbody>\n",
       "</table>\n",
       "<p>100 rows × 4 columns</p>\n",
       "</div>"
      ],
      "text/plain": [
       "          Date       Meal           Food  Calories\n",
       "0   2025-07-01  Breakfast       Smoothie       272\n",
       "1   2025-07-01      Lunch          Salad       210\n",
       "2   2025-07-01      Lunch         Paneer       526\n",
       "3   2025-07-01      Snack           Nuts       543\n",
       "4   2025-07-02      Lunch  Chicken Curry       330\n",
       "..         ...        ...            ...       ...\n",
       "95  2025-07-24  Breakfast          Toast       410\n",
       "96  2025-07-25      Lunch          Pasta       236\n",
       "97  2025-07-25      Snack          Chips       211\n",
       "98  2025-07-25      Snack          Fruit       392\n",
       "99  2025-07-25  Breakfast       Pancakes       353\n",
       "\n",
       "[100 rows x 4 columns]"
      ]
     },
     "execution_count": 10,
     "metadata": {},
     "output_type": "execute_result"
    }
   ],
   "source": [
    "df=pd.read_csv(\"diet_log_100.csv\")\n",
    "df"
   ]
  },
  {
   "cell_type": "code",
   "execution_count": 11,
   "id": "f47ad134-5a12-49aa-8e4e-ce5ae7512fd7",
   "metadata": {},
   "outputs": [
    {
     "data": {
      "text/html": [
       "<div>\n",
       "<style scoped>\n",
       "    .dataframe tbody tr th:only-of-type {\n",
       "        vertical-align: middle;\n",
       "    }\n",
       "\n",
       "    .dataframe tbody tr th {\n",
       "        vertical-align: top;\n",
       "    }\n",
       "\n",
       "    .dataframe thead th {\n",
       "        text-align: right;\n",
       "    }\n",
       "</style>\n",
       "<table border=\"1\" class=\"dataframe\">\n",
       "  <thead>\n",
       "    <tr style=\"text-align: right;\">\n",
       "      <th></th>\n",
       "      <th>Date</th>\n",
       "      <th>Meal</th>\n",
       "      <th>Food</th>\n",
       "      <th>Calories</th>\n",
       "    </tr>\n",
       "  </thead>\n",
       "  <tbody>\n",
       "    <tr>\n",
       "      <th>0</th>\n",
       "      <td>2025-07-01</td>\n",
       "      <td>Breakfast</td>\n",
       "      <td>Smoothie</td>\n",
       "      <td>272</td>\n",
       "    </tr>\n",
       "    <tr>\n",
       "      <th>1</th>\n",
       "      <td>2025-07-01</td>\n",
       "      <td>Lunch</td>\n",
       "      <td>Salad</td>\n",
       "      <td>210</td>\n",
       "    </tr>\n",
       "    <tr>\n",
       "      <th>2</th>\n",
       "      <td>2025-07-01</td>\n",
       "      <td>Lunch</td>\n",
       "      <td>Paneer</td>\n",
       "      <td>526</td>\n",
       "    </tr>\n",
       "    <tr>\n",
       "      <th>3</th>\n",
       "      <td>2025-07-01</td>\n",
       "      <td>Snack</td>\n",
       "      <td>Nuts</td>\n",
       "      <td>543</td>\n",
       "    </tr>\n",
       "    <tr>\n",
       "      <th>4</th>\n",
       "      <td>2025-07-02</td>\n",
       "      <td>Lunch</td>\n",
       "      <td>Chicken Curry</td>\n",
       "      <td>330</td>\n",
       "    </tr>\n",
       "  </tbody>\n",
       "</table>\n",
       "</div>"
      ],
      "text/plain": [
       "         Date       Meal           Food  Calories\n",
       "0  2025-07-01  Breakfast       Smoothie       272\n",
       "1  2025-07-01      Lunch          Salad       210\n",
       "2  2025-07-01      Lunch         Paneer       526\n",
       "3  2025-07-01      Snack           Nuts       543\n",
       "4  2025-07-02      Lunch  Chicken Curry       330"
      ]
     },
     "execution_count": 11,
     "metadata": {},
     "output_type": "execute_result"
    }
   ],
   "source": [
    "df.head()"
   ]
  },
  {
   "cell_type": "code",
   "execution_count": 12,
   "id": "3180d0ba-ab3e-452f-bce2-b63ed98e9098",
   "metadata": {},
   "outputs": [
    {
     "data": {
      "text/html": [
       "<div>\n",
       "<style scoped>\n",
       "    .dataframe tbody tr th:only-of-type {\n",
       "        vertical-align: middle;\n",
       "    }\n",
       "\n",
       "    .dataframe tbody tr th {\n",
       "        vertical-align: top;\n",
       "    }\n",
       "\n",
       "    .dataframe thead th {\n",
       "        text-align: right;\n",
       "    }\n",
       "</style>\n",
       "<table border=\"1\" class=\"dataframe\">\n",
       "  <thead>\n",
       "    <tr style=\"text-align: right;\">\n",
       "      <th></th>\n",
       "      <th>Date</th>\n",
       "      <th>Meal</th>\n",
       "      <th>Food</th>\n",
       "      <th>Calories</th>\n",
       "    </tr>\n",
       "  </thead>\n",
       "  <tbody>\n",
       "    <tr>\n",
       "      <th>95</th>\n",
       "      <td>2025-07-24</td>\n",
       "      <td>Breakfast</td>\n",
       "      <td>Toast</td>\n",
       "      <td>410</td>\n",
       "    </tr>\n",
       "    <tr>\n",
       "      <th>96</th>\n",
       "      <td>2025-07-25</td>\n",
       "      <td>Lunch</td>\n",
       "      <td>Pasta</td>\n",
       "      <td>236</td>\n",
       "    </tr>\n",
       "    <tr>\n",
       "      <th>97</th>\n",
       "      <td>2025-07-25</td>\n",
       "      <td>Snack</td>\n",
       "      <td>Chips</td>\n",
       "      <td>211</td>\n",
       "    </tr>\n",
       "    <tr>\n",
       "      <th>98</th>\n",
       "      <td>2025-07-25</td>\n",
       "      <td>Snack</td>\n",
       "      <td>Fruit</td>\n",
       "      <td>392</td>\n",
       "    </tr>\n",
       "    <tr>\n",
       "      <th>99</th>\n",
       "      <td>2025-07-25</td>\n",
       "      <td>Breakfast</td>\n",
       "      <td>Pancakes</td>\n",
       "      <td>353</td>\n",
       "    </tr>\n",
       "  </tbody>\n",
       "</table>\n",
       "</div>"
      ],
      "text/plain": [
       "          Date       Meal      Food  Calories\n",
       "95  2025-07-24  Breakfast     Toast       410\n",
       "96  2025-07-25      Lunch     Pasta       236\n",
       "97  2025-07-25      Snack     Chips       211\n",
       "98  2025-07-25      Snack     Fruit       392\n",
       "99  2025-07-25  Breakfast  Pancakes       353"
      ]
     },
     "execution_count": 12,
     "metadata": {},
     "output_type": "execute_result"
    }
   ],
   "source": [
    "df.tail()"
   ]
  },
  {
   "cell_type": "code",
   "execution_count": 13,
   "id": "d38a1815-305f-463a-abe6-cb65e02c2bd5",
   "metadata": {},
   "outputs": [
    {
     "data": {
      "text/plain": [
       "(100, 4)"
      ]
     },
     "execution_count": 13,
     "metadata": {},
     "output_type": "execute_result"
    }
   ],
   "source": [
    "df.shape"
   ]
  },
  {
   "cell_type": "code",
   "execution_count": 14,
   "id": "fc42135e-388b-4c4a-8683-6179aeaeeb0f",
   "metadata": {},
   "outputs": [
    {
     "name": "stdout",
     "output_type": "stream",
     "text": [
      "<class 'pandas.core.frame.DataFrame'>\n",
      "RangeIndex: 100 entries, 0 to 99\n",
      "Data columns (total 4 columns):\n",
      " #   Column    Non-Null Count  Dtype \n",
      "---  ------    --------------  ----- \n",
      " 0   Date      100 non-null    object\n",
      " 1   Meal      100 non-null    object\n",
      " 2   Food      100 non-null    object\n",
      " 3   Calories  100 non-null    int64 \n",
      "dtypes: int64(1), object(3)\n",
      "memory usage: 3.3+ KB\n"
     ]
    }
   ],
   "source": [
    "df.info()"
   ]
  },
  {
   "cell_type": "code",
   "execution_count": 15,
   "id": "3892f61e-ed28-4e3f-b4df-7afc6837ab0c",
   "metadata": {},
   "outputs": [
    {
     "data": {
      "text/html": [
       "<div>\n",
       "<style scoped>\n",
       "    .dataframe tbody tr th:only-of-type {\n",
       "        vertical-align: middle;\n",
       "    }\n",
       "\n",
       "    .dataframe tbody tr th {\n",
       "        vertical-align: top;\n",
       "    }\n",
       "\n",
       "    .dataframe thead th {\n",
       "        text-align: right;\n",
       "    }\n",
       "</style>\n",
       "<table border=\"1\" class=\"dataframe\">\n",
       "  <thead>\n",
       "    <tr style=\"text-align: right;\">\n",
       "      <th></th>\n",
       "      <th>Calories</th>\n",
       "    </tr>\n",
       "  </thead>\n",
       "  <tbody>\n",
       "    <tr>\n",
       "      <th>count</th>\n",
       "      <td>100.000000</td>\n",
       "    </tr>\n",
       "    <tr>\n",
       "      <th>mean</th>\n",
       "      <td>393.390000</td>\n",
       "    </tr>\n",
       "    <tr>\n",
       "      <th>std</th>\n",
       "      <td>109.417548</td>\n",
       "    </tr>\n",
       "    <tr>\n",
       "      <th>min</th>\n",
       "      <td>207.000000</td>\n",
       "    </tr>\n",
       "    <tr>\n",
       "      <th>25%</th>\n",
       "      <td>308.750000</td>\n",
       "    </tr>\n",
       "    <tr>\n",
       "      <th>50%</th>\n",
       "      <td>395.000000</td>\n",
       "    </tr>\n",
       "    <tr>\n",
       "      <th>75%</th>\n",
       "      <td>487.000000</td>\n",
       "    </tr>\n",
       "    <tr>\n",
       "      <th>max</th>\n",
       "      <td>593.000000</td>\n",
       "    </tr>\n",
       "  </tbody>\n",
       "</table>\n",
       "</div>"
      ],
      "text/plain": [
       "         Calories\n",
       "count  100.000000\n",
       "mean   393.390000\n",
       "std    109.417548\n",
       "min    207.000000\n",
       "25%    308.750000\n",
       "50%    395.000000\n",
       "75%    487.000000\n",
       "max    593.000000"
      ]
     },
     "execution_count": 15,
     "metadata": {},
     "output_type": "execute_result"
    }
   ],
   "source": [
    "df.describe()"
   ]
  },
  {
   "cell_type": "code",
   "execution_count": 16,
   "id": "5b6740ce-bdaa-4d03-a6f9-820c415cc274",
   "metadata": {},
   "outputs": [
    {
     "data": {
      "text/html": [
       "<div>\n",
       "<style scoped>\n",
       "    .dataframe tbody tr th:only-of-type {\n",
       "        vertical-align: middle;\n",
       "    }\n",
       "\n",
       "    .dataframe tbody tr th {\n",
       "        vertical-align: top;\n",
       "    }\n",
       "\n",
       "    .dataframe thead th {\n",
       "        text-align: right;\n",
       "    }\n",
       "</style>\n",
       "<table border=\"1\" class=\"dataframe\">\n",
       "  <thead>\n",
       "    <tr style=\"text-align: right;\">\n",
       "      <th></th>\n",
       "      <th>Date</th>\n",
       "      <th>Meal</th>\n",
       "      <th>Food</th>\n",
       "      <th>Calories</th>\n",
       "    </tr>\n",
       "  </thead>\n",
       "  <tbody>\n",
       "    <tr>\n",
       "      <th>0</th>\n",
       "      <td>False</td>\n",
       "      <td>False</td>\n",
       "      <td>False</td>\n",
       "      <td>False</td>\n",
       "    </tr>\n",
       "    <tr>\n",
       "      <th>1</th>\n",
       "      <td>False</td>\n",
       "      <td>False</td>\n",
       "      <td>False</td>\n",
       "      <td>False</td>\n",
       "    </tr>\n",
       "    <tr>\n",
       "      <th>2</th>\n",
       "      <td>False</td>\n",
       "      <td>False</td>\n",
       "      <td>False</td>\n",
       "      <td>False</td>\n",
       "    </tr>\n",
       "    <tr>\n",
       "      <th>3</th>\n",
       "      <td>False</td>\n",
       "      <td>False</td>\n",
       "      <td>False</td>\n",
       "      <td>False</td>\n",
       "    </tr>\n",
       "    <tr>\n",
       "      <th>4</th>\n",
       "      <td>False</td>\n",
       "      <td>False</td>\n",
       "      <td>False</td>\n",
       "      <td>False</td>\n",
       "    </tr>\n",
       "    <tr>\n",
       "      <th>...</th>\n",
       "      <td>...</td>\n",
       "      <td>...</td>\n",
       "      <td>...</td>\n",
       "      <td>...</td>\n",
       "    </tr>\n",
       "    <tr>\n",
       "      <th>95</th>\n",
       "      <td>False</td>\n",
       "      <td>False</td>\n",
       "      <td>False</td>\n",
       "      <td>False</td>\n",
       "    </tr>\n",
       "    <tr>\n",
       "      <th>96</th>\n",
       "      <td>False</td>\n",
       "      <td>False</td>\n",
       "      <td>False</td>\n",
       "      <td>False</td>\n",
       "    </tr>\n",
       "    <tr>\n",
       "      <th>97</th>\n",
       "      <td>False</td>\n",
       "      <td>False</td>\n",
       "      <td>False</td>\n",
       "      <td>False</td>\n",
       "    </tr>\n",
       "    <tr>\n",
       "      <th>98</th>\n",
       "      <td>False</td>\n",
       "      <td>False</td>\n",
       "      <td>False</td>\n",
       "      <td>False</td>\n",
       "    </tr>\n",
       "    <tr>\n",
       "      <th>99</th>\n",
       "      <td>False</td>\n",
       "      <td>False</td>\n",
       "      <td>False</td>\n",
       "      <td>False</td>\n",
       "    </tr>\n",
       "  </tbody>\n",
       "</table>\n",
       "<p>100 rows × 4 columns</p>\n",
       "</div>"
      ],
      "text/plain": [
       "     Date   Meal   Food  Calories\n",
       "0   False  False  False     False\n",
       "1   False  False  False     False\n",
       "2   False  False  False     False\n",
       "3   False  False  False     False\n",
       "4   False  False  False     False\n",
       "..    ...    ...    ...       ...\n",
       "95  False  False  False     False\n",
       "96  False  False  False     False\n",
       "97  False  False  False     False\n",
       "98  False  False  False     False\n",
       "99  False  False  False     False\n",
       "\n",
       "[100 rows x 4 columns]"
      ]
     },
     "execution_count": 16,
     "metadata": {},
     "output_type": "execute_result"
    }
   ],
   "source": [
    "df.isnull()"
   ]
  },
  {
   "cell_type": "code",
   "execution_count": 17,
   "id": "e66a49e6-b130-4d96-9758-35f420625521",
   "metadata": {},
   "outputs": [
    {
     "data": {
      "text/plain": [
       "Date        0\n",
       "Meal        0\n",
       "Food        0\n",
       "Calories    0\n",
       "dtype: int64"
      ]
     },
     "execution_count": 17,
     "metadata": {},
     "output_type": "execute_result"
    }
   ],
   "source": [
    "df.isnull().sum()"
   ]
  },
  {
   "cell_type": "code",
   "execution_count": 18,
   "id": "d5ae7449-4d0e-4915-a53e-161a1e45ea54",
   "metadata": {},
   "outputs": [
    {
     "name": "stdout",
     "output_type": "stream",
     "text": [
      "         Date  Calories\n",
      "0  2025-07-01      1551\n",
      "1  2025-07-02      1833\n",
      "2  2025-07-03      1792\n",
      "3  2025-07-04      1242\n",
      "4  2025-07-05      1830\n",
      "5  2025-07-06      1613\n",
      "6  2025-07-07      1379\n",
      "7  2025-07-08      1502\n",
      "8  2025-07-09      1475\n",
      "9  2025-07-10      1876\n",
      "10 2025-07-11      1692\n",
      "11 2025-07-12      1522\n",
      "12 2025-07-13      1865\n",
      "13 2025-07-14      1532\n",
      "14 2025-07-15      1287\n",
      "15 2025-07-16      1402\n",
      "16 2025-07-17      2093\n",
      "17 2025-07-18      1467\n",
      "18 2025-07-19      1473\n",
      "19 2025-07-20      1428\n",
      "20 2025-07-21      1238\n",
      "21 2025-07-22      1947\n",
      "22 2025-07-23      1767\n",
      "23 2025-07-24      1341\n",
      "24 2025-07-25      1192\n"
     ]
    }
   ],
   "source": [
    "# Convert Date column to proper datetime format\n",
    "df['Date'] = pd.to_datetime(df['Date'])\n",
    "\n",
    "# Group by date and sum calories\n",
    "daily_calories = df.groupby('Date')['Calories'].sum().reset_index()\n",
    "\n",
    "print(daily_calories)\n",
    "\n",
    "    \n"
   ]
  },
  {
   "cell_type": "code",
   "execution_count": null,
   "id": "edde1dd4-0d52-4a30-9c29-8d99f9e1a251",
   "metadata": {},
   "outputs": [],
   "source": []
  },
  {
   "cell_type": "code",
   "execution_count": 18,
   "id": "9029790b-1cf6-4035-aa37-896381db0967",
   "metadata": {},
   "outputs": [
    {
     "name": "stdout",
     "output_type": "stream",
     "text": [
      "         Date  Calories\n",
      "0  2025-07-01      1551\n",
      "1  2025-07-02      1833\n",
      "2  2025-07-03      1792\n",
      "3  2025-07-04      1242\n",
      "4  2025-07-05      1830\n",
      "5  2025-07-06      1613\n",
      "6  2025-07-07      1379\n",
      "7  2025-07-08      1502\n",
      "8  2025-07-09      1475\n",
      "9  2025-07-10      1876\n",
      "10 2025-07-11      1692\n",
      "11 2025-07-12      1522\n",
      "12 2025-07-13      1865\n",
      "13 2025-07-14      1532\n",
      "14 2025-07-15      1287\n",
      "15 2025-07-16      1402\n",
      "16 2025-07-17      2093\n",
      "17 2025-07-18      1467\n",
      "18 2025-07-19      1473\n",
      "19 2025-07-20      1428\n",
      "20 2025-07-21      1238\n",
      "21 2025-07-22      1947\n",
      "22 2025-07-23      1767\n",
      "23 2025-07-24      1341\n",
      "24 2025-07-25      1192\n"
     ]
    }
   ],
   "source": [
    "# Convert Date column to proper datetime format\n",
    "df['Date'] = pd.to_datetime(df['Date'])\n",
    "\n",
    "# Group by date and sum calories\n",
    "daily_calories = df.groupby('Date')['Calories'].sum().reset_index()\n",
    "\n",
    "print(daily_calories)\n",
    "\n",
    "    \n"
   ]
  },
  {
   "cell_type": "code",
   "execution_count": 19,
   "id": "d911e4aa-4ff0-4cf1-b112-e33f66273e37",
   "metadata": {},
   "outputs": [
    {
     "data": {
      "text/plain": [
       "<seaborn.axisgrid.PairGrid at 0x1c64d0a9fd0>"
      ]
     },
     "execution_count": 19,
     "metadata": {},
     "output_type": "execute_result"
    },
    {
     "data": {
      "image/png": "[encoded data removed]",
      "text/plain": [
       "<Figure size 250x250 with 2 Axes>"
      ]
     },
     "metadata": {},
     "output_type": "display_data"
    }
   ],
   "source": [
    "sns.pairplot(df)"
   ]
  },
  {
   "cell_type": "code",
   "execution_count": 47,
   "id": "928efff7-df7b-4c5d-bf22-dad0b0b3535e",
   "metadata": {},
   "outputs": [
    {
     "data": {
      "image/png": "[encoded data removed]",
      "text/plain": [
       "<Figure size 640x480 with 1 Axes>"
      ]
     },
     "metadata": {},
     "output_type": "display_data"
    }
   ],
   "source": [
    "meal_calories = df.groupby(\"Meal\")[\"Calories\"].sum()\n",
    "\n",
    "plt.pie(\n",
    "    meal_calories,\n",
    "    labels=meal_calories.index,\n",
    "    autopct=\"%1.1f%%\",\n",
    "    startangle=90,\n",
    "    shadow=True\n",
    ")\n",
    "plt.title(\"Meal-wise Calorie Share ({date})\")\n",
    "plt.show()\n"
   ]
  },
  {
   "cell_type": "code",
   "execution_count": 48,
   "id": "fc379626-d8dd-4c64-b340-0a58ccba8a9b",
   "metadata": {},
   "outputs": [
    {
     "data": {
      "image/png": "[encoded data removed]",
      "text/plain": [
       "<Figure size 640x480 with 1 Axes>"
      ]
     },
     "metadata": {},
     "output_type": "display_data"
    }
   ],
   "source": [
    "df[\"Week\"] = df[\"Date\"].dt.to_period(\"W\").apply(lambda r: r.start_time)\n",
    "weekly_calories = df.groupby(\"Week\")[\"Calories\"].sum()\n",
    "\n",
    "# ---------- Plot Bar Chart ----------\n",
    "plt.bar(weekly_calories.index.astype(str), weekly_calories.values)\n",
    "plt.xticks(rotation=45)\n",
    "plt.title(\"Weekly Calorie Intake\")\n",
    "plt.xlabel(\"Week Starting\")\n",
    "plt.ylabel(\"Total Calories\")\n",
    "plt.show()"
   ]
  }
 ],
 "metadata": {
  "kernelspec": {
   "display_name": "Python 3 (ipykernel)",
   "language": "python",
   "name": "python3"
  },
  "language_info": {
   "codemirror_mode": {
    "name": "ipython",
    "version": 3
   },
   "file_extension": ".py",
   "mimetype": "text/x-python",
   "name": "python",
   "nbconvert_exporter": "python",
   "pygments_lexer": "ipython3",
   "version": "3.13.5"
  }
 },
 "nbformat": 4,
 "nbformat_minor": 5
}
